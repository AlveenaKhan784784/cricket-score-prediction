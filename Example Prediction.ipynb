{
 "cells": [
  {
   "cell_type": "code",
   "execution_count": 6,
   "id": "55aa23e0",
   "metadata": {},
   "outputs": [],
   "source": [
    "import pickle\n",
    "import pandas as pd\n",
    "\n",
    "# Load the pipeline model\n",
    "pipe = pickle.load(open('pipe.pkl', 'rb'))"
   ]
  },
  {
   "cell_type": "code",
   "execution_count": 4,
   "id": "f0dd96f6",
   "metadata": {},
   "outputs": [],
   "source": [
    "def predict_final_score(batting_team, bowling_team, current_score, balls_left, wickets_left, crr, last_five):\n",
    "    input_df = pd.DataFrame({\n",
    "        'batting_team': [batting_team],\n",
    "        'bowling_team': [bowling_team],\n",
    "        'current_score': [current_score],\n",
    "        'balls_left': [balls_left],\n",
    "        'wickets_left': [wickets_left],\n",
    "        'crr': [crr],\n",
    "        'last_five': [last_five]\n",
    "    })\n",
    "\n",
    "    predicted_score = pipe.predict(input_df)[0]\n",
    "    return round(predicted_score)\n"
   ]
  },
  {
   "cell_type": "code",
   "execution_count": 7,
   "id": "fd174852",
   "metadata": {},
   "outputs": [
    {
     "name": "stdout",
     "output_type": "stream",
     "text": [
      "Predicted Final Score: 152\n"
     ]
    }
   ],
   "source": [
    "# Example prediction for a live or hypothetical match\n",
    "predicted = predict_final_score(\n",
    "    batting_team='India',\n",
    "    bowling_team='Australia',\n",
    "    current_score=130,\n",
    "    balls_left=36,\n",
    "    wickets_left=4,\n",
    "    crr=7.2,\n",
    "    last_five=45  # runs scored in last 5 overs\n",
    ")\n",
    "\n",
    "print(\"Predicted Final Score:\", predicted)\n"
   ]
  },
  {
   "cell_type": "code",
   "execution_count": null,
   "id": "acb5265e",
   "metadata": {},
   "outputs": [],
   "source": []
  }
 ],
 "metadata": {
  "kernelspec": {
   "display_name": "Python 3 (ipykernel)",
   "language": "python",
   "name": "python3"
  },
  "language_info": {
   "codemirror_mode": {
    "name": "ipython",
    "version": 3
   },
   "file_extension": ".py",
   "mimetype": "text/x-python",
   "name": "python",
   "nbconvert_exporter": "python",
   "pygments_lexer": "ipython3",
   "version": "3.9.13"
  }
 },
 "nbformat": 4,
 "nbformat_minor": 5
}
